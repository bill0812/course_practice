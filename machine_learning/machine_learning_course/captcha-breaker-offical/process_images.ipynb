{
 "cells": [
  {
   "cell_type": "code",
   "execution_count": 1,
   "metadata": {
    "collapsed": false
   },
   "outputs": [],
   "source": [
    "import math\n",
    "import os\n",
    "import re\n",
    "\n",
    "import numpy as np\n",
    "\n",
    "from skimage import img_as_float, io\n",
    "from skimage.color import *\n",
    "from skimage.restoration import denoise_tv_chambolle\n",
    "from sklearn import svm, metrics\n",
    "\n",
    "# Files are named whatever-actualCaptchaTyped.png\n",
    "confirmed_images_re = re.compile(r'-([a-zA-Z0-9]{6})\\.png$')"
   ]
  },
  {
   "cell_type": "code",
   "execution_count": 2,
   "metadata": {
    "collapsed": false
   },
   "outputs": [],
   "source": [
    "from matplotlib import pyplot as plt\n",
    "%matplotlib inline"
   ]
  },
  {
   "cell_type": "code",
   "execution_count": 3,
   "metadata": {
    "collapsed": false
   },
   "outputs": [
    {
     "data": {
      "image/png": "[encoded data removed]",
      "text/plain": [
       "<matplotlib.figure.Figure at 0x7f05078ecbe0>"
      ]
     },
     "metadata": {},
     "output_type": "display_data"
    }
   ],
   "source": [
    "def load_image(path):\n",
    "    img = img_as_float(rgb2gray(io.imread(path)))[9:38,10:177]\n",
    "    img[img != 0] = 1\n",
    "    return img\n",
    "\n",
    "def get_letters(img, number=6, avg_size=29):\n",
    "    for i in range(number):\n",
    "        start = i * avg_size\n",
    "        nimg = img.copy()[:,start:start + avg_size]\n",
    "        width_difference = avg_size - nimg.shape[1]\n",
    "        if width_difference != 0:\n",
    "            nimg = np.append(nimg, np.ones((nimg.shape[0], width_difference)), axis=1)\n",
    "        yield nimg\n",
    "\n",
    "not_trained_captcha = load_image('captchas/captcha-54f0d97919921-9ZAC1F.png')\n",
    "fig, ax = plt.subplots(ncols=6)\n",
    "\n",
    "for i, letter in enumerate(get_letters(not_trained_captcha)):\n",
    "    ax[i].imshow(letter)"
   ]
  },
  {
   "cell_type": "code",
   "execution_count": 4,
   "metadata": {
    "collapsed": false
   },
   "outputs": [
    {
     "name": "stdout",
     "output_type": "stream",
     "text": [
      "30000 images\n"
     ]
    }
   ],
   "source": [
    "imgs = []\n",
    "limit_images = 30000\n",
    "total_to_train = int(limit_images * 0.8)\n",
    "loaded_images = 0\n",
    "for filename in os.listdir('captchas'):\n",
    "    match = confirmed_images_re.search(filename)\n",
    "    if not match:\n",
    "        continue\n",
    "    try:\n",
    "        imgs.append((match.group(1).lower(), load_image('captchas/{}'.format(filename))))\n",
    "    except (IndexError, OSError):  # Pillow and its errors\n",
    "        continue\n",
    "    loaded_images += 1\n",
    "    if loaded_images == limit_images:\n",
    "        break\n",
    "print('{} images'.format(len(imgs)))\n",
    "letters_image = []\n",
    "letters_ascii = []\n",
    "for image in imgs:\n",
    "    letters, image = image\n",
    "    for column, letter_image in enumerate(get_letters(image)):\n",
    "        letters_image.append(letter_image.flatten())\n",
    "        letters_ascii.append(letters[column])"
   ]
  },
  {
   "cell_type": "code",
   "execution_count": 5,
   "metadata": {
    "collapsed": false
   },
   "outputs": [
    {
     "data": {
      "text/plain": [
       "SVC(C=10, cache_size=200, class_weight=None, coef0=0.0,\n",
       "  decision_function_shape=None, degree=3, gamma=0.001, kernel='rbf',\n",
       "  max_iter=-1, probability=False, random_state=None, shrinking=True,\n",
       "  tol=0.001, verbose=False)"
      ]
     },
     "execution_count": 5,
     "metadata": {},
     "output_type": "execute_result"
    }
   ],
   "source": [
    "model = svm.SVC(C=10, gamma=0.001, probability=False)\n",
    "model.fit(letters_image[:total_to_train], letters_ascii[:total_to_train])"
   ]
  },
  {
   "cell_type": "code",
   "execution_count": 6,
   "metadata": {
    "collapsed": false
   },
   "outputs": [
    {
     "name": "stdout",
     "output_type": "stream",
     "text": [
      "             precision    recall  f1-score   support\n",
      "\n",
      "          0       0.66      0.75      0.70      1296\n",
      "          1       0.81      0.87      0.84      4128\n",
      "          2       0.94      0.95      0.95      4518\n",
      "          3       0.92      0.93      0.93      4420\n",
      "          4       0.96      0.98      0.97      4499\n",
      "          5       0.94      0.93      0.94      4271\n",
      "          6       0.90      0.94      0.92      4532\n",
      "          7       0.97      0.96      0.96      4578\n",
      "          8       0.87      0.90      0.88      4476\n",
      "          9       0.93      0.94      0.93      4593\n",
      "          a       0.98      0.97      0.97      4481\n",
      "          b       0.80      0.88      0.84      4339\n",
      "          c       0.93      0.89      0.91      4495\n",
      "          d       0.88      0.89      0.89      4548\n",
      "          e       0.90      0.90      0.90      4397\n",
      "          f       0.88      0.90      0.89      4359\n",
      "          g       0.89      0.90      0.90      4356\n",
      "          h       0.94      0.90      0.92      4371\n",
      "          i       0.81      0.83      0.82      4305\n",
      "          j       0.95      0.94      0.95      4363\n",
      "          k       0.93      0.92      0.92      4470\n",
      "          l       0.94      0.92      0.93      4267\n",
      "          m       0.97      0.95      0.96      4403\n",
      "          n       0.95      0.95      0.95      4501\n",
      "          o       0.84      0.78      0.81      4003\n",
      "          p       0.86      0.88      0.87      4457\n",
      "          q       0.95      0.96      0.96      4427\n",
      "          r       0.88      0.87      0.88      4399\n",
      "          s       0.95      0.89      0.92      4428\n",
      "          t       0.94      0.93      0.93      4537\n",
      "          u       0.95      0.90      0.92      4459\n",
      "          v       0.97      0.97      0.97      4412\n",
      "          w       0.97      0.96      0.96      4461\n",
      "          x       0.97      0.95      0.96      4508\n",
      "          y       0.97      0.94      0.95      4499\n",
      "          z       0.95      0.93      0.94      4444\n",
      "\n",
      "avg / total       0.92      0.92      0.92    156000\n",
      "\n"
     ]
    }
   ],
   "source": [
    "predicted = model.predict(letters_image[total_to_train:])\n",
    "expected = letters_ascii[total_to_train:]\n",
    "print(metrics.classification_report(expected, predicted))"
   ]
  },
  {
   "cell_type": "code",
   "execution_count": 7,
   "metadata": {
    "collapsed": false
   },
   "outputs": [
    {
     "name": "stdout",
     "output_type": "stream",
     "text": [
      "captchas/captcha-54f0d89a91c67-OFUS8R.png 0fus8r\n"
     ]
    }
   ],
   "source": [
    "def decode_captcha(filename, func=None):\n",
    "    func = func or model.predict\n",
    "    return func([l.flatten() for l in get_letters(load_image(filename))])\n",
    "\n",
    "filename = 'captchas/{}'.format(np.random.choice(os.listdir('captchas/')))\n",
    "print(filename, ''.join(decode_captcha(filename, mo0del.predict)))"
   ]
  },
  {
   "cell_type": "code",
   "execution_count": 10,
   "metadata": {
    "collapsed": false
   },
   "outputs": [],
   "source": [
    "from sklearn.grid_search import GridSearchCV\n",
    "params = [{'kernel': ['rbf'], 'gamma': [1e-3, 1e-4],\n",
    "                    'C': [1, 10, 100, 1000]},\n",
    "                   {'kernel': ['linear'], 'C': [1, 10, 100, 1000]}]\n",
    "   \n",
    "clf = GridSearchCV(svm.SVC(), params, n_jobs=1)\n",
    "# Use this to get the best params for the model\n",
    "# clf.fit(letters_image[:total_to_train], letters_ascii[:total_to_train])"
   ]
  },
  {
   "cell_type": "code",
   "execution_count": 14,
   "metadata": {
    "collapsed": false
   },
   "outputs": [],
   "source": [
    "print(clf.best_estimator_)\n",
    "clf.grid_scores_"
   ]
  },
  {
   "cell_type": "code",
   "execution_count": 15,
   "metadata": {
    "collapsed": false
   },
   "outputs": [
    {
     "name": "stdout",
     "output_type": "stream",
     "text": [
      "10 loops, best of 3: 162 ms per loop\n"
     ]
    }
   ],
   "source": [
    "%timeit decode_captcha('captchas/captcha-54f0d99253782-wh4ow7.png')"
   ]
  }
 ],
 "metadata": {
  "kernelspec": {
   "display_name": "Python 3",
   "language": "python",
   "name": "python3"
  },
  "language_info": {
   "codemirror_mode": {
    "name": "ipython",
    "version": 3
   },
   "file_extension": ".py",
   "mimetype": "text/x-python",
   "name": "python",
   "nbconvert_exporter": "python",
   "pygments_lexer": "ipython3",
   "version": "3.4.5"
  }
 },
 "nbformat": 4,
 "nbformat_minor": 0
}
