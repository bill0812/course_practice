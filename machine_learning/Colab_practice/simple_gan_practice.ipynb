{
  "nbformat": 4,
  "nbformat_minor": 0,
  "metadata": {
    "colab": {
      "name": "simple_gan_practice.ipynb",
      "version": "0.3.2",
      "views": {},
      "default_view": {},
      "provenance": []
    },
    "kernelspec": {
      "name": "python3",
      "display_name": "Python 3"
    },
    "accelerator": "GPU"
  },
  "cells": [
    {
      "metadata": {
        "id": "yH5Bd5fYul97",
        "colab_type": "code",
        "colab": {
          "autoexec": {
            "startup": false,
            "wait_interval": 0
          }
        }
      },
      "cell_type": "code",
      "source": [
        "# import basic package\n",
        "import keras\n",
        "from PIL import Image\n",
        "import numpy as np"
      ],
      "execution_count": 0,
      "outputs": []
    },
    {
      "metadata": {
        "id": "e9WHny-ZvMxs",
        "colab_type": "code",
        "colab": {
          "autoexec": {
            "startup": false,
            "wait_interval": 0
          }
        }
      },
      "cell_type": "code",
      "source": [
        "# download mnist data\n",
        "from keras.datasets import mnist\n",
        "(train_X, train_y), (test_X, test_y) = mnist.load_data()"
      ],
      "execution_count": 0,
      "outputs": []
    },
    {
      "metadata": {
        "id": "ypn8jcppvP-p",
        "colab_type": "code",
        "colab": {
          "autoexec": {
            "startup": false,
            "wait_interval": 0
          }
        }
      },
      "cell_type": "code",
      "source": [
        "# make data close to 0 and 1\n",
        "train_X = (train_X[..., None]-127.5)/128"
      ],
      "execution_count": 0,
      "outputs": []
    },
    {
      "metadata": {
        "id": "Ya2fdStIvRXu",
        "colab_type": "code",
        "colab": {
          "autoexec": {
            "startup": false,
            "wait_interval": 0
          },
          "base_uri": "https://localhost:8080/",
          "height": 62
        },
        "outputId": "64e30d50-7d24-487c-8467-6069062b2926",
        "executionInfo": {
          "status": "ok",
          "timestamp": 1532059210803,
          "user_tz": -480,
          "elapsed": 868,
          "user": {
            "displayName": "柏仁王",
            "photoUrl": "https://lh3.googleusercontent.com/a/default-user=s128",
            "userId": "112467679485077150500"
          }
        }
      },
      "cell_type": "code",
      "source": [
        "# show image\n",
        "from IPython.display import display\n",
        "def showX(X, rows=1):\n",
        "    assert X.shape[0] % rows == 0\n",
        "    int_X = (X*128+128).clip(0,255).astype('uint8')\n",
        "    # N*784 -> N*28*28 -> 28*N*28 -> 28 * 28N\n",
        "    int_X_reshape = int_X.reshape(rows, -1,28,28).swapaxes(1,2).reshape(28*rows,-1)\n",
        "    display(Image.fromarray(int_X_reshape))\n",
        "\n",
        "    # 訓練資料， X 的前 20 筆\n",
        "showX(train_X[:10])\n",
        "print(train_y)"
      ],
      "execution_count": 54,
      "outputs": [
        {
          "output_type": "display_data",
          "data": {
            "image/png": "[encoded data removed]",
            "text/plain": [
              "<PIL.Image.Image image mode=L size=280x28 at 0x7F4AC5505668>"
            ]
          },
          "metadata": {
            "tags": []
          }
        },
        {
          "output_type": "stream",
          "text": [
            "[5 0 4 ... 5 6 8]\n"
          ],
          "name": "stdout"
        }
      ]
    },
    {
      "metadata": {
        "id": "VoUDO-qKvXkb",
        "colab_type": "code",
        "colab": {
          "autoexec": {
            "startup": false,
            "wait_interval": 0
          }
        }
      },
      "cell_type": "code",
      "source": [
        "# define factor in the end to shrink\n",
        "NZ = 32"
      ],
      "execution_count": 0,
      "outputs": []
    },
    {
      "metadata": {
        "id": "e-qEI_z_vZCB",
        "colab_type": "code",
        "colab": {
          "autoexec": {
            "startup": false,
            "wait_interval": 0
          }
        }
      },
      "cell_type": "code",
      "source": [
        "# define discriminator\n",
        "from keras.models import Sequential\n",
        "from keras.layers import Conv2D, Activation, GlobalAveragePooling2D, Reshape\n",
        "\n",
        "netD = Sequential([\n",
        "    Conv2D(filters=32, kernel_size=3, strides=2, padding='same', activation='relu', input_shape=(28,28,1)),\n",
        "    Conv2D(filters=32, kernel_size=3, strides=2, padding='same', activation='relu'),\n",
        "    Conv2D(filters=32, kernel_size=3, strides=2, padding='valid', activation=\"relu\"),\n",
        "    Conv2D(filters=1, kernel_size=3, strides=3, padding='valid', activation=\"sigmoid\"),\n",
        "    Reshape((1,)),\n",
        "])"
      ],
      "execution_count": 0,
      "outputs": []
    },
    {
      "metadata": {
        "id": "y8rF2_ZTvacB",
        "colab_type": "code",
        "colab": {
          "autoexec": {
            "startup": false,
            "wait_interval": 0
          },
          "base_uri": "https://localhost:8080/",
          "height": 306
        },
        "outputId": "26957461-d3ad-4f5d-a40e-4265452d424f",
        "executionInfo": {
          "status": "ok",
          "timestamp": 1532062537812,
          "user_tz": -480,
          "elapsed": 854,
          "user": {
            "displayName": "柏仁王",
            "photoUrl": "https://lh3.googleusercontent.com/a/default-user=s128",
            "userId": "112467679485077150500"
          }
        }
      },
      "cell_type": "code",
      "source": [
        "# view discriminator's info\n",
        "netD.summary()"
      ],
      "execution_count": 81,
      "outputs": [
        {
          "output_type": "stream",
          "text": [
            "_________________________________________________________________\n",
            "Layer (type)                 Output Shape              Param #   \n",
            "=================================================================\n",
            "conv2d_21 (Conv2D)           (None, 14, 14, 32)        320       \n",
            "_________________________________________________________________\n",
            "conv2d_22 (Conv2D)           (None, 7, 7, 32)          9248      \n",
            "_________________________________________________________________\n",
            "conv2d_23 (Conv2D)           (None, 3, 3, 32)          9248      \n",
            "_________________________________________________________________\n",
            "conv2d_24 (Conv2D)           (None, 1, 1, 1)           289       \n",
            "_________________________________________________________________\n",
            "reshape_14 (Reshape)         (None, 1)                 0         \n",
            "=================================================================\n",
            "Total params: 19,105\n",
            "Trainable params: 19,105\n",
            "Non-trainable params: 0\n",
            "_________________________________________________________________\n"
          ],
          "name": "stdout"
        }
      ]
    },
    {
      "metadata": {
        "id": "lfzFNMzlvcUC",
        "colab_type": "code",
        "colab": {
          "autoexec": {
            "startup": false,
            "wait_interval": 0
          }
        }
      },
      "cell_type": "code",
      "source": [
        "# define generator\n",
        "from keras.layers import Conv2DTranspose, Reshape\n",
        "netG = Sequential([\n",
        "    Reshape( (1,1,NZ), input_shape=(NZ,)),\n",
        "    Conv2DTranspose(filters=32, kernel_size=3, strides=2, padding='valid', activation='relu'),\n",
        "    Conv2DTranspose(filters=32, kernel_size=3, strides=2, padding='valid', activation='relu'),\n",
        "    Conv2DTranspose(filters=32, kernel_size=3, strides=2, padding='same', activation='relu'),\n",
        "    Conv2DTranspose(filters=1, kernel_size=3, strides=2, padding='same',activation=\"tanh\")\n",
        "])"
      ],
      "execution_count": 0,
      "outputs": []
    },
    {
      "metadata": {
        "id": "Z9qqwlwivdrX",
        "colab_type": "code",
        "colab": {
          "autoexec": {
            "startup": false,
            "wait_interval": 0
          },
          "base_uri": "https://localhost:8080/",
          "height": 306
        },
        "outputId": "541ffd21-48cf-43dc-f9a1-0e6877dda482",
        "executionInfo": {
          "status": "ok",
          "timestamp": 1532062545233,
          "user_tz": -480,
          "elapsed": 1838,
          "user": {
            "displayName": "柏仁王",
            "photoUrl": "https://lh3.googleusercontent.com/a/default-user=s128",
            "userId": "112467679485077150500"
          }
        }
      },
      "cell_type": "code",
      "source": [
        "# view generator's info\n",
        "netG.summary()"
      ],
      "execution_count": 83,
      "outputs": [
        {
          "output_type": "stream",
          "text": [
            "_________________________________________________________________\n",
            "Layer (type)                 Output Shape              Param #   \n",
            "=================================================================\n",
            "reshape_15 (Reshape)         (None, 1, 1, 32)          0         \n",
            "_________________________________________________________________\n",
            "conv2d_transpose_33 (Conv2DT (None, 3, 3, 32)          9248      \n",
            "_________________________________________________________________\n",
            "conv2d_transpose_34 (Conv2DT (None, 7, 7, 32)          9248      \n",
            "_________________________________________________________________\n",
            "conv2d_transpose_35 (Conv2DT (None, 14, 14, 32)        9248      \n",
            "_________________________________________________________________\n",
            "conv2d_transpose_36 (Conv2DT (None, 28, 28, 1)         289       \n",
            "=================================================================\n",
            "Total params: 28,033\n",
            "Trainable params: 28,033\n",
            "Non-trainable params: 0\n",
            "_________________________________________________________________\n"
          ],
          "name": "stdout"
        }
      ]
    },
    {
      "metadata": {
        "id": "YmTDyTjlvfHj",
        "colab_type": "code",
        "colab": {
          "autoexec": {
            "startup": false,
            "wait_interval": 0
          }
        }
      },
      "cell_type": "code",
      "source": [
        "# define gan model\n",
        "from keras.models import Model\n",
        "GD_output = netD(netG.outputs)\n",
        "netGD = Model(inputs=netG.inputs, outputs=[GD_output])"
      ],
      "execution_count": 0,
      "outputs": []
    },
    {
      "metadata": {
        "id": "IkK67b2xvhGk",
        "colab_type": "code",
        "colab": {
          "autoexec": {
            "startup": false,
            "wait_interval": 0
          },
          "base_uri": "https://localhost:8080/",
          "height": 374
        },
        "outputId": "fab321d2-ba3b-4252-fc0b-418641a6be0c",
        "executionInfo": {
          "status": "ok",
          "timestamp": 1532062553474,
          "user_tz": -480,
          "elapsed": 750,
          "user": {
            "displayName": "柏仁王",
            "photoUrl": "https://lh3.googleusercontent.com/a/default-user=s128",
            "userId": "112467679485077150500"
          }
        }
      },
      "cell_type": "code",
      "source": [
        "# view gan's info\n",
        "netGD.summary()"
      ],
      "execution_count": 85,
      "outputs": [
        {
          "output_type": "stream",
          "text": [
            "_________________________________________________________________\n",
            "Layer (type)                 Output Shape              Param #   \n",
            "=================================================================\n",
            "reshape_15_input (InputLayer (None, 32)                0         \n",
            "_________________________________________________________________\n",
            "reshape_15 (Reshape)         (None, 1, 1, 32)          0         \n",
            "_________________________________________________________________\n",
            "conv2d_transpose_33 (Conv2DT (None, 3, 3, 32)          9248      \n",
            "_________________________________________________________________\n",
            "conv2d_transpose_34 (Conv2DT (None, 7, 7, 32)          9248      \n",
            "_________________________________________________________________\n",
            "conv2d_transpose_35 (Conv2DT (None, 14, 14, 32)        9248      \n",
            "_________________________________________________________________\n",
            "conv2d_transpose_36 (Conv2DT (None, 28, 28, 1)         289       \n",
            "_________________________________________________________________\n",
            "sequential_13 (Sequential)   (None, 1)                 19105     \n",
            "=================================================================\n",
            "Total params: 47,138\n",
            "Trainable params: 47,138\n",
            "Non-trainable params: 0\n",
            "_________________________________________________________________\n"
          ],
          "name": "stdout"
        }
      ]
    },
    {
      "metadata": {
        "id": "VWBUchZFvqFM",
        "colab_type": "code",
        "colab": {
          "autoexec": {
            "startup": false,
            "wait_interval": 0
          },
          "base_uri": "https://localhost:8080/",
          "height": 45
        },
        "outputId": "cb44e28b-8461-4c92-a7e8-24dd92ce044f",
        "executionInfo": {
          "status": "ok",
          "timestamp": 1532062559104,
          "user_tz": -480,
          "elapsed": 1199,
          "user": {
            "displayName": "柏仁王",
            "photoUrl": "https://lh3.googleusercontent.com/a/default-user=s128",
            "userId": "112467679485077150500"
          }
        }
      },
      "cell_type": "code",
      "source": [
        "# random create a tensor\n",
        "import numpy as np\n",
        "showX(netG.predict(np.random.normal( size=(10, NZ))))"
      ],
      "execution_count": 86,
      "outputs": [
        {
          "output_type": "display_data",
          "data": {
            "image/png": "[encoded data removed]",
            "text/plain": [
              "<PIL.Image.Image image mode=L size=280x28 at 0x7F4AAC3A6860>"
            ]
          },
          "metadata": {
            "tags": []
          }
        }
      ]
    },
    {
      "metadata": {
        "id": "2lkfwp8wv21l",
        "colab_type": "code",
        "colab": {
          "autoexec": {
            "startup": false,
            "wait_interval": 0
          }
        }
      },
      "cell_type": "code",
      "source": [
        "# set up loss and output_real, out_fake and training update for discriminator\n",
        "import keras.backend as K\n",
        "from keras.optimizers import RMSprop, SGD, Adam\n",
        "\n",
        "#loss_fn = lambda output, target : K.mean(K.binary_crossentropy(output, target))\n",
        "loss_fn = lambda output, target : -K.mean(K.log(output+1e-12)*target+K.log(1-output+1e-12)*(1-target))\n",
        "\n",
        "input_real = netD.inputs[0]\n",
        "input_z = netG.inputs[0]\n",
        "\n",
        "output_D_real = netD.outputs[0]\n",
        "output_D_fake = netGD.outputs[0]\n",
        "\n",
        "loss_D_real = loss_fn(output_D_real, K.ones_like(output_D_real))\n",
        "loss_D_fake = loss_fn(output_D_fake, K.zeros_like(output_D_fake))\n",
        "loss_D = (loss_D_real +loss_D_fake)/2\n",
        "\n",
        "training_updates = RMSprop(lr=1e-3).get_updates(netD.trainable_weights,[],loss_D)\n",
        "netD_train = K.function([input_z, input_real],[loss_D/2], training_updates)"
      ],
      "execution_count": 0,
      "outputs": []
    },
    {
      "metadata": {
        "id": "STq6JBBKwBIh",
        "colab_type": "code",
        "colab": {
          "autoexec": {
            "startup": false,
            "wait_interval": 0
          }
        }
      },
      "cell_type": "code",
      "source": [
        "# set up loss and output_real, out_fake and training update for generator\n",
        "loss_G = loss_fn(output_D_fake, K.ones_like(output_D_fake))\n",
        "training_updates = RMSprop(lr=1e-3).get_updates(netG.trainable_weights,[], loss_G)\n",
        "netG_train = K.function([input_z], [loss_G], training_updates)"
      ],
      "execution_count": 0,
      "outputs": []
    },
    {
      "metadata": {
        "id": "oyBBcV0UyHlA",
        "colab_type": "code",
        "colab": {
          "autoexec": {
            "startup": false,
            "wait_interval": 0
          }
        }
      },
      "cell_type": "code",
      "source": [
        "# define minibatch for training\n",
        "def minibatch(dataset, batchsize):\n",
        "  while True:\n",
        "    yield dataset[np.random.choice(dataset.shape[0], batchsize, replace=False)]"
      ],
      "execution_count": 0,
      "outputs": []
    },
    {
      "metadata": {
        "id": "F8VmpmkTyNr2",
        "colab_type": "code",
        "colab": {
          "autoexec": {
            "startup": false,
            "wait_interval": 0
          },
          "base_uri": "https://localhost:8080/",
          "height": 157
        },
        "outputId": "704effd8-acab-45be-c302-b0afb5c14c6c",
        "executionInfo": {
          "status": "ok",
          "timestamp": 1532062588192,
          "user_tz": -480,
          "elapsed": 1471,
          "user": {
            "displayName": "柏仁王",
            "photoUrl": "https://lh3.googleusercontent.com/a/default-user=s128",
            "userId": "112467679485077150500"
          }
        }
      },
      "cell_type": "code",
      "source": [
        "# test for show image result\n",
        "train_batch = minibatch(train_X, 10)\n",
        "for i in range(5):\n",
        "  X = next(train_batch)\n",
        "  showX(X)"
      ],
      "execution_count": 90,
      "outputs": [
        {
          "output_type": "display_data",
          "data": {
            "image/png": "[encoded data removed]",
            "text/plain": [
              "<PIL.Image.Image image mode=L size=280x28 at 0x7F4AABE1B128>"
            ]
          },
          "metadata": {
            "tags": []
          }
        },
        {
          "output_type": "display_data",
          "data": {
            "image/png": "[encoded data removed]",
            "text/plain": [
              "<PIL.Image.Image image mode=L size=280x28 at 0x7F4AABE1B128>"
            ]
          },
          "metadata": {
            "tags": []
          }
        },
        {
          "output_type": "display_data",
          "data": {
            "image/png": "[encoded data removed]",
            "text/plain": [
              "<PIL.Image.Image image mode=L size=280x28 at 0x7F4AABE1B128>"
            ]
          },
          "metadata": {
            "tags": []
          }
        },
        {
          "output_type": "display_data",
          "data": {
            "image/png": "[encoded data removed]",
            "text/plain": [
              "<PIL.Image.Image image mode=L size=280x28 at 0x7F4AABE1B128>"
            ]
          },
          "metadata": {
            "tags": []
          }
        },
        {
          "output_type": "display_data",
          "data": {
            "image/png": "[encoded data removed]",
            "text/plain": [
              "<PIL.Image.Image image mode=L size=280x28 at 0x7F4AABE1B128>"
            ]
          },
          "metadata": {
            "tags": []
          }
        }
      ]
    },
    {
      "metadata": {
        "id": "ltYI2wXIyf_4",
        "colab_type": "code",
        "colab": {
          "autoexec": {
            "startup": false,
            "wait_interval": 0
          }
        }
      },
      "cell_type": "code",
      "source": [
        "# train model\n",
        "import time\n",
        "from IPython.display import clear_output\n",
        "t0 = time.time()\n",
        "gen_iterations = 0\n",
        "errG = 0\n",
        "errG_sum = errD_sum = 0\n",
        "\n",
        "display_iters = 100\n",
        "batch_size = 32\n",
        "\n",
        "train_batch = minibatch(train_X, batch_size)\n",
        "fixed_Z = np.random.normal(scale=0.5, size=(100, NZ))\n",
        "while gen_iterations < 10000: \n",
        "    X = next(train_batch)\n",
        "    Z = np.random.normal(size=(batch_size, NZ))\n",
        "    errD, = netD_train([Z, X])\n",
        "    errD_sum +=errD\n",
        "    \n",
        "    #Z = np.random.normal(size=(batch_size, NZ))\n",
        "    errG, = netG_train([Z])\n",
        "    errG_sum += errG    \n",
        "    gen_iterations+=1\n",
        "    \n",
        "    if gen_iterations%display_iters==0:\n",
        "        clear_output(True)\n",
        "        print('[%d] Loss_D: %f Loss_G: %f'\n",
        "        % (gen_iterations, errD_sum/display_iters, errG_sum/display_iters), time.time()-t0)\n",
        "        fakeX = netG.predict(fixed_Z)\n",
        "        showX(fakeX, 10)\n",
        "        errG_sum = errD_sum = 0"
      ],
      "execution_count": 0,
      "outputs": []
    },
    {
      "metadata": {
        "id": "Kt8_2c9bzIys",
        "colab_type": "code",
        "colab": {
          "autoexec": {
            "startup": false,
            "wait_interval": 0
          }
        }
      },
      "cell_type": "code",
      "source": [
        "5"
      ],
      "execution_count": 0,
      "outputs": []
    }
  ]
}