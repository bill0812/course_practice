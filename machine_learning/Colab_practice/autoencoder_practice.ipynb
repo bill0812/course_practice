{
  "nbformat": 4,
  "nbformat_minor": 0,
  "metadata": {
    "colab": {
      "name": "autoencoder_practice.ipynb",
      "version": "0.3.2",
      "views": {},
      "default_view": {},
      "provenance": []
    },
    "kernelspec": {
      "name": "python3",
      "display_name": "Python 3"
    },
    "accelerator": "GPU"
  },
  "cells": [
    {
      "metadata": {
        "id": "TM8YOH3VWwFB",
        "colab_type": "code",
        "colab": {
          "autoexec": {
            "startup": false,
            "wait_interval": 0
          }
        }
      },
      "cell_type": "code",
      "source": [
        "# import basic package\n",
        "import keras\n",
        "from PIL import Image\n",
        "import numpy as np"
      ],
      "execution_count": 0,
      "outputs": []
    },
    {
      "metadata": {
        "id": "vyOPiyOiXSb7",
        "colab_type": "code",
        "colab": {
          "autoexec": {
            "startup": false,
            "wait_interval": 0
          }
        }
      },
      "cell_type": "code",
      "source": [
        "# import mnist and fashion_mnist dataset\n",
        "from keras.datasets import mnist,fashion_mnist\n",
        "\n",
        "# load mnist data\n",
        "(train_X, train_y), (test_X, test_y) = mnist.load_data()"
      ],
      "execution_count": 0,
      "outputs": []
    },
    {
      "metadata": {
        "id": "2aiFQiS5qB88",
        "colab_type": "code",
        "colab": {
          "autoexec": {
            "startup": false,
            "wait_interval": 0
          }
        }
      },
      "cell_type": "code",
      "source": [
        "# load fashion mnist data\n",
        "(train_fashion_X, train_fashion_y), (test_fashion_X, test_fashion_y) = fashion_mnist.load_data()"
      ],
      "execution_count": 0,
      "outputs": []
    },
    {
      "metadata": {
        "id": "msEeIhXaYhaU",
        "colab_type": "code",
        "colab": {
          "autoexec": {
            "startup": false,
            "wait_interval": 0
          }
        }
      },
      "cell_type": "code",
      "source": [
        "# mnist train data type\n",
        "train_X.dtype"
      ],
      "execution_count": 0,
      "outputs": []
    },
    {
      "metadata": {
        "id": "HH-ZPG5JqF8d",
        "colab_type": "code",
        "colab": {
          "autoexec": {
            "startup": false,
            "wait_interval": 0
          },
          "base_uri": "https://localhost:8080/",
          "height": 34
        },
        "outputId": "369db01a-9eaa-430e-c23b-98dbd4bf4007",
        "executionInfo": {
          "status": "ok",
          "timestamp": 1532056075503,
          "user_tz": -480,
          "elapsed": 781,
          "user": {
            "displayName": "柏仁王",
            "photoUrl": "https://lh3.googleusercontent.com/a/default-user=s128",
            "userId": "112467679485077150500"
          }
        }
      },
      "cell_type": "code",
      "source": [
        "# fashion mnist train data shape\n",
        "train_fashion_X.dtype"
      ],
      "execution_count": 125,
      "outputs": [
        {
          "output_type": "execute_result",
          "data": {
            "text/plain": [
              "dtype('uint8')"
            ]
          },
          "metadata": {
            "tags": []
          },
          "execution_count": 125
        }
      ]
    },
    {
      "metadata": {
        "id": "tj_QR2BGp08F",
        "colab_type": "code",
        "colab": {
          "autoexec": {
            "startup": false,
            "wait_interval": 0
          },
          "base_uri": "https://localhost:8080/",
          "height": 34
        },
        "cellView": "code",
        "outputId": "cf1355f9-4e92-4c45-9fd2-3cb5ebf2655c",
        "executionInfo": {
          "status": "ok",
          "timestamp": 1532056083751,
          "user_tz": -480,
          "elapsed": 547,
          "user": {
            "displayName": "柏仁王",
            "photoUrl": "https://lh3.googleusercontent.com/a/default-user=s128",
            "userId": "112467679485077150500"
          }
        }
      },
      "cell_type": "code",
      "source": [
        "# mnist train data shape\n",
        "train_X.shape"
      ],
      "execution_count": 126,
      "outputs": [
        {
          "output_type": "execute_result",
          "data": {
            "text/plain": [
              "(60000, 28, 28)"
            ]
          },
          "metadata": {
            "tags": []
          },
          "execution_count": 126
        }
      ]
    },
    {
      "metadata": {
        "id": "GZm7b7s4qOhE",
        "colab_type": "code",
        "colab": {
          "autoexec": {
            "startup": false,
            "wait_interval": 0
          },
          "base_uri": "https://localhost:8080/",
          "height": 34
        },
        "outputId": "32d37c0e-86da-4f9a-9471-77fc732b2e7e",
        "executionInfo": {
          "status": "ok",
          "timestamp": 1532056118802,
          "user_tz": -480,
          "elapsed": 995,
          "user": {
            "displayName": "柏仁王",
            "photoUrl": "https://lh3.googleusercontent.com/a/default-user=s128",
            "userId": "112467679485077150500"
          }
        }
      },
      "cell_type": "code",
      "source": [
        "# fashion mnist train data shape\n",
        "train_fashion_X.shape"
      ],
      "execution_count": 130,
      "outputs": [
        {
          "output_type": "execute_result",
          "data": {
            "text/plain": [
              "(60000, 28, 28)"
            ]
          },
          "metadata": {
            "tags": []
          },
          "execution_count": 130
        }
      ]
    },
    {
      "metadata": {
        "id": "AjKKtYnBYjON",
        "colab_type": "code",
        "colab": {
          "autoexec": {
            "startup": false,
            "wait_interval": 0
          }
        }
      },
      "cell_type": "code",
      "source": [
        "# view mnist image for no.1\n",
        "Image.fromarray(train_X[0])"
      ],
      "execution_count": 0,
      "outputs": []
    },
    {
      "metadata": {
        "id": "DWBGAJujqKVK",
        "colab_type": "code",
        "colab": {
          "autoexec": {
            "startup": false,
            "wait_interval": 0
          },
          "base_uri": "https://localhost:8080/",
          "height": 45
        },
        "outputId": "e7afe00e-8832-40a1-ed39-f1ce28780ca8",
        "executionInfo": {
          "status": "ok",
          "timestamp": 1532056098992,
          "user_tz": -480,
          "elapsed": 559,
          "user": {
            "displayName": "柏仁王",
            "photoUrl": "https://lh3.googleusercontent.com/a/default-user=s128",
            "userId": "112467679485077150500"
          }
        }
      },
      "cell_type": "code",
      "source": [
        "# view fashion mnist image for no.1\n",
        "Image.fromarray(train_fashion_X[0])"
      ],
      "execution_count": 128,
      "outputs": [
        {
          "output_type": "execute_result",
          "data": {
            "image/png": "[encoded data removed]",
            "text/plain": [
              "<PIL.Image.Image image mode=L size=28x28 at 0x7FF5B6C11240>"
            ]
          },
          "metadata": {
            "tags": []
          },
          "execution_count": 128
        }
      ]
    },
    {
      "metadata": {
        "id": "3i8pAydkaD9S",
        "colab_type": "code",
        "colab": {
          "autoexec": {
            "startup": false,
            "wait_interval": 0
          }
        }
      },
      "cell_type": "code",
      "source": [
        "# make mnist data close between 0 and 1\n",
        "train_X = (train_X[..., None]-127.5)/128"
      ],
      "execution_count": 0,
      "outputs": []
    },
    {
      "metadata": {
        "id": "td_ze71AqV0z",
        "colab_type": "code",
        "colab": {
          "autoexec": {
            "startup": false,
            "wait_interval": 0
          }
        }
      },
      "cell_type": "code",
      "source": [
        "# make fashion mnist data close between 0 and 1\n",
        "train_fashion_X = (train_fashion_X[..., None]-127.5)/128"
      ],
      "execution_count": 0,
      "outputs": []
    },
    {
      "metadata": {
        "id": "wSJIyjGyab1A",
        "colab_type": "code",
        "colab": {
          "autoexec": {
            "startup": false,
            "wait_interval": 0
          },
          "base_uri": "https://localhost:8080/",
          "height": 34
        },
        "outputId": "50e2049b-6085-430e-b8cd-a038b5a68b0d",
        "executionInfo": {
          "status": "ok",
          "timestamp": 1532056145443,
          "user_tz": -480,
          "elapsed": 962,
          "user": {
            "displayName": "柏仁王",
            "photoUrl": "https://lh3.googleusercontent.com/a/default-user=s128",
            "userId": "112467679485077150500"
          }
        }
      },
      "cell_type": "code",
      "source": [
        "# view mnist train data shape\n",
        "train_X.shape\n",
        "# train_X[0]"
      ],
      "execution_count": 133,
      "outputs": [
        {
          "output_type": "execute_result",
          "data": {
            "text/plain": [
              "(60000, 28, 28, 1)"
            ]
          },
          "metadata": {
            "tags": []
          },
          "execution_count": 133
        }
      ]
    },
    {
      "metadata": {
        "id": "23NUdKd3qa6f",
        "colab_type": "code",
        "colab": {
          "autoexec": {
            "startup": false,
            "wait_interval": 0
          },
          "base_uri": "https://localhost:8080/",
          "height": 34
        },
        "outputId": "1b7a0c9a-8f1b-4499-ce4d-252e7de88d30",
        "executionInfo": {
          "status": "ok",
          "timestamp": 1532056155758,
          "user_tz": -480,
          "elapsed": 569,
          "user": {
            "displayName": "柏仁王",
            "photoUrl": "https://lh3.googleusercontent.com/a/default-user=s128",
            "userId": "112467679485077150500"
          }
        }
      },
      "cell_type": "code",
      "source": [
        "# view fashion mnist train data shape\n",
        "train_fashion_X.shape\n",
        "# train_fashion_X[0]"
      ],
      "execution_count": 134,
      "outputs": [
        {
          "output_type": "execute_result",
          "data": {
            "text/plain": [
              "(60000, 28, 28, 1)"
            ]
          },
          "metadata": {
            "tags": []
          },
          "execution_count": 134
        }
      ]
    },
    {
      "metadata": {
        "id": "nMDQwygKaoYs",
        "colab_type": "code",
        "colab": {
          "autoexec": {
            "startup": false,
            "wait_interval": 0
          },
          "base_uri": "https://localhost:8080/",
          "height": 62
        },
        "outputId": "a28c7ff1-8f66-45a2-9982-de6f1fdadf7f",
        "executionInfo": {
          "status": "ok",
          "timestamp": 1532056198048,
          "user_tz": -480,
          "elapsed": 1971,
          "user": {
            "displayName": "柏仁王",
            "photoUrl": "https://lh3.googleusercontent.com/a/default-user=s128",
            "userId": "112467679485077150500"
          }
        }
      },
      "cell_type": "code",
      "source": [
        "from IPython.display import display\n",
        "\n",
        "# define a function to show image\n",
        "def showX(X, rows=1):\n",
        "    assert X.shape[0] % rows == 0\n",
        "    int_X = (X*128+128).clip(0,255).astype('uint8')\n",
        "    # N*784 -> N*28*28 -> 28*N*28 -> 28 * 28N\n",
        "    int_X_reshape = int_X.reshape(rows, -1,28,28).swapaxes(1,2).reshape(28*rows,-1)\n",
        "    display(Image.fromarray(int_X_reshape))\n",
        "    \n",
        "# 訓練資料， X 的前 20 筆\n",
        "showX(train_X[:10])\n",
        "print(train_y[:10])"
      ],
      "execution_count": 135,
      "outputs": [
        {
          "output_type": "display_data",
          "data": {
            "image/png": "[encoded data removed]",
            "text/plain": [
              "<PIL.Image.Image image mode=L size=280x28 at 0x7FF5B6C3BCC0>"
            ]
          },
          "metadata": {
            "tags": []
          }
        },
        {
          "output_type": "stream",
          "text": [
            "[5 0 4 1 9 2 1 3 1 4]\n"
          ],
          "name": "stdout"
        }
      ]
    },
    {
      "metadata": {
        "id": "8U06VqVMcHU6",
        "colab_type": "code",
        "colab": {
          "autoexec": {
            "startup": false,
            "wait_interval": 0
          }
        }
      },
      "cell_type": "code",
      "source": [
        "# define number of factor that shrink in the end\n",
        "NZ = 7"
      ],
      "execution_count": 0,
      "outputs": []
    },
    {
      "metadata": {
        "id": "sRWbqOPHc6ce",
        "colab_type": "code",
        "colab": {
          "autoexec": {
            "startup": false,
            "wait_interval": 0
          }
        }
      },
      "cell_type": "code",
      "source": [
        "from keras.models import Sequential\n",
        "from keras.layers import Conv2D, Activation, GlobalAveragePooling2D\n",
        "\n",
        "# define a network : encoder to shape to NZ\n",
        "netE = Sequential([\n",
        "    Conv2D(filters=32, kernel_size=3, strides=1, padding='same', activation='selu', input_shape=(28,28,1)),\n",
        "    # selu\n",
        "    Conv2D(filters=32, kernel_size=3, strides=1, padding='same', activation='selu'),\n",
        "    Conv2D(filters=32, kernel_size=3, strides=1, padding='same', activation='selu'),\n",
        "    Conv2D(filters=NZ, kernel_size=3, strides=1, padding='valid'),\n",
        "    GlobalAveragePooling2D(),\n",
        "    Activation('tanh'),\n",
        "    Reshape([NZ,])\n",
        "])"
      ],
      "execution_count": 0,
      "outputs": []
    },
    {
      "metadata": {
        "id": "OB3_FQerc8aE",
        "colab_type": "code",
        "colab": {
          "autoexec": {
            "startup": false,
            "wait_interval": 0
          },
          "base_uri": "https://localhost:8080/",
          "height": 374
        },
        "outputId": "e2aec0d3-e2d0-44a3-d659-761049d75150",
        "executionInfo": {
          "status": "ok",
          "timestamp": 1532056361396,
          "user_tz": -480,
          "elapsed": 1101,
          "user": {
            "displayName": "柏仁王",
            "photoUrl": "https://lh3.googleusercontent.com/a/default-user=s128",
            "userId": "112467679485077150500"
          }
        }
      },
      "cell_type": "code",
      "source": [
        "# view summary of netE info\n",
        "netE.summary()"
      ],
      "execution_count": 143,
      "outputs": [
        {
          "output_type": "stream",
          "text": [
            "_________________________________________________________________\n",
            "Layer (type)                 Output Shape              Param #   \n",
            "=================================================================\n",
            "conv2d_12 (Conv2D)           (None, 28, 28, 32)        320       \n",
            "_________________________________________________________________\n",
            "conv2d_13 (Conv2D)           (None, 28, 28, 32)        9248      \n",
            "_________________________________________________________________\n",
            "conv2d_14 (Conv2D)           (None, 28, 28, 32)        9248      \n",
            "_________________________________________________________________\n",
            "conv2d_15 (Conv2D)           (None, 26, 26, 7)         2023      \n",
            "_________________________________________________________________\n",
            "global_average_pooling2d_4 ( (None, 7)                 0         \n",
            "_________________________________________________________________\n",
            "activation_4 (Activation)    (None, 7)                 0         \n",
            "_________________________________________________________________\n",
            "reshape_3 (Reshape)          (None, 7)                 0         \n",
            "=================================================================\n",
            "Total params: 20,839\n",
            "Trainable params: 20,839\n",
            "Non-trainable params: 0\n",
            "_________________________________________________________________\n"
          ],
          "name": "stdout"
        }
      ]
    },
    {
      "metadata": {
        "id": "HSCCuDjGddpE",
        "colab_type": "code",
        "colab": {
          "autoexec": {
            "startup": false,
            "wait_interval": 0
          }
        }
      },
      "cell_type": "code",
      "source": [
        "# import some basic library\n",
        "from keras.layers import Conv2DTranspose, Reshape"
      ],
      "execution_count": 0,
      "outputs": []
    },
    {
      "metadata": {
        "id": "FUihHCu1dvTp",
        "colab_type": "code",
        "colab": {
          "autoexec": {
            "startup": false,
            "wait_interval": 0
          }
        }
      },
      "cell_type": "code",
      "source": [
        "# define a network generator to reshape factor to image\n",
        "netG = Sequential([\n",
        "    Reshape( (1,1,NZ), input_shape=(NZ,)),\n",
        "    Conv2DTranspose(filters=32, kernel_size=3, strides=2, padding='valid', activation='relu'),\n",
        "    Conv2DTranspose(filters=32, kernel_size=3, strides=2, padding='valid', activation='relu'),\n",
        "    Conv2DTranspose(filters=32, kernel_size=3, strides=2, padding='same', activation='relu'),\n",
        "    Conv2DTranspose(filters=1, kernel_size=3, strides=2, padding='same')\n",
        "    \n",
        "])"
      ],
      "execution_count": 0,
      "outputs": []
    },
    {
      "metadata": {
        "id": "uorm15k_eE9_",
        "colab_type": "code",
        "colab": {
          "autoexec": {
            "startup": false,
            "wait_interval": 0
          },
          "base_uri": "https://localhost:8080/",
          "height": 306
        },
        "outputId": "42790940-fd5b-450e-faac-f82b7f821989",
        "executionInfo": {
          "status": "ok",
          "timestamp": 1532056432161,
          "user_tz": -480,
          "elapsed": 537,
          "user": {
            "displayName": "柏仁王",
            "photoUrl": "https://lh3.googleusercontent.com/a/default-user=s128",
            "userId": "112467679485077150500"
          }
        }
      },
      "cell_type": "code",
      "source": [
        "# view netG's summary info\n",
        "netG.summary()"
      ],
      "execution_count": 146,
      "outputs": [
        {
          "output_type": "stream",
          "text": [
            "_________________________________________________________________\n",
            "Layer (type)                 Output Shape              Param #   \n",
            "=================================================================\n",
            "reshape_4 (Reshape)          (None, 1, 1, 7)           0         \n",
            "_________________________________________________________________\n",
            "conv2d_transpose_5 (Conv2DTr (None, 3, 3, 32)          2048      \n",
            "_________________________________________________________________\n",
            "conv2d_transpose_6 (Conv2DTr (None, 7, 7, 32)          9248      \n",
            "_________________________________________________________________\n",
            "conv2d_transpose_7 (Conv2DTr (None, 14, 14, 32)        9248      \n",
            "_________________________________________________________________\n",
            "conv2d_transpose_8 (Conv2DTr (None, 28, 28, 1)         289       \n",
            "=================================================================\n",
            "Total params: 20,833\n",
            "Trainable params: 20,833\n",
            "Non-trainable params: 0\n",
            "_________________________________________________________________\n"
          ],
          "name": "stdout"
        }
      ]
    },
    {
      "metadata": {
        "id": "5pCRaSeZeHv4",
        "colab_type": "code",
        "colab": {
          "autoexec": {
            "startup": false,
            "wait_interval": 0
          }
        }
      },
      "cell_type": "code",
      "source": [
        "from keras.models import Model\n",
        "\n",
        "# combine two network to whole autoencoder\n",
        "EG_output = netG(netE.outputs)\n",
        "netEG = Model(inputs=netE.inputs, outputs=[EG_output])"
      ],
      "execution_count": 0,
      "outputs": []
    },
    {
      "metadata": {
        "id": "NZjF6QgqeRTQ",
        "colab_type": "code",
        "colab": {
          "autoexec": {
            "startup": false,
            "wait_interval": 0
          },
          "base_uri": "https://localhost:8080/",
          "height": 442
        },
        "outputId": "e40646a8-b531-46d4-90f3-c3c13f3b23e6",
        "executionInfo": {
          "status": "ok",
          "timestamp": 1532056442074,
          "user_tz": -480,
          "elapsed": 861,
          "user": {
            "displayName": "柏仁王",
            "photoUrl": "https://lh3.googleusercontent.com/a/default-user=s128",
            "userId": "112467679485077150500"
          }
        }
      },
      "cell_type": "code",
      "source": [
        "# view whole network's info\n",
        "netEG.summary()"
      ],
      "execution_count": 148,
      "outputs": [
        {
          "output_type": "stream",
          "text": [
            "_________________________________________________________________\n",
            "Layer (type)                 Output Shape              Param #   \n",
            "=================================================================\n",
            "conv2d_12_input (InputLayer) (None, 28, 28, 1)         0         \n",
            "_________________________________________________________________\n",
            "conv2d_12 (Conv2D)           (None, 28, 28, 32)        320       \n",
            "_________________________________________________________________\n",
            "conv2d_13 (Conv2D)           (None, 28, 28, 32)        9248      \n",
            "_________________________________________________________________\n",
            "conv2d_14 (Conv2D)           (None, 28, 28, 32)        9248      \n",
            "_________________________________________________________________\n",
            "conv2d_15 (Conv2D)           (None, 26, 26, 7)         2023      \n",
            "_________________________________________________________________\n",
            "global_average_pooling2d_4 ( (None, 7)                 0         \n",
            "_________________________________________________________________\n",
            "activation_4 (Activation)    (None, 7)                 0         \n",
            "_________________________________________________________________\n",
            "reshape_3 (Reshape)          (None, 7)                 0         \n",
            "_________________________________________________________________\n",
            "sequential_6 (Sequential)    (None, 28, 28, 1)         20833     \n",
            "=================================================================\n",
            "Total params: 41,672\n",
            "Trainable params: 41,672\n",
            "Non-trainable params: 0\n",
            "_________________________________________________________________\n"
          ],
          "name": "stdout"
        }
      ]
    },
    {
      "metadata": {
        "id": "TYfc9RCEebBh",
        "colab_type": "code",
        "colab": {
          "autoexec": {
            "startup": false,
            "wait_interval": 0
          },
          "base_uri": "https://localhost:8080/",
          "height": 45
        },
        "outputId": "46a43f7b-e942-473e-ac0a-17512790c75e",
        "executionInfo": {
          "status": "ok",
          "timestamp": 1532056447162,
          "user_tz": -480,
          "elapsed": 1254,
          "user": {
            "displayName": "柏仁王",
            "photoUrl": "https://lh3.googleusercontent.com/a/default-user=s128",
            "userId": "112467679485077150500"
          }
        }
      },
      "cell_type": "code",
      "source": [
        "import numpy as np\n",
        "\n",
        "# random new a tensor\n",
        "showX(netG.predict(np.random.normal( size=(10, NZ))))"
      ],
      "execution_count": 149,
      "outputs": [
        {
          "output_type": "display_data",
          "data": {
            "image/png": "[encoded data removed]",
            "text/plain": [
              "<PIL.Image.Image image mode=L size=280x28 at 0x7FF5B6C7F6D8>"
            ]
          },
          "metadata": {
            "tags": []
          }
        }
      ]
    },
    {
      "metadata": {
        "id": "75VV69XHerJB",
        "colab_type": "code",
        "colab": {
          "autoexec": {
            "startup": false,
            "wait_interval": 0
          }
        }
      },
      "cell_type": "code",
      "source": [
        "# network to comput loss : mse ; optimizer : adam\n",
        "netEG.compile(loss='mse', optimizer='adam')"
      ],
      "execution_count": 0,
      "outputs": []
    },
    {
      "metadata": {
        "id": "AgSigwl0eyTm",
        "colab_type": "code",
        "colab": {
          "autoexec": {
            "startup": false,
            "wait_interval": 0
          },
          "base_uri": "https://localhost:8080/",
          "height": 374
        },
        "outputId": "7a73b6e5-8175-47b0-b55f-b9ba6f5ad388",
        "executionInfo": {
          "status": "ok",
          "timestamp": 1532056877395,
          "user_tz": -480,
          "elapsed": 393455,
          "user": {
            "displayName": "柏仁王",
            "photoUrl": "https://lh3.googleusercontent.com/a/default-user=s128",
            "userId": "112467679485077150500"
          }
        }
      },
      "cell_type": "code",
      "source": [
        "# train network\n",
        "netEG.fit(train_fashion_X, train_fashion_X, epochs=10)"
      ],
      "execution_count": 151,
      "outputs": [
        {
          "output_type": "stream",
          "text": [
            "Epoch 1/10\n",
            "60000/60000 [==============================] - 44s 739us/step - loss: 0.1478\n",
            "Epoch 2/10\n",
            "22400/60000 [==========>...................] - ETA: 25s - loss: 0.1009"
          ],
          "name": "stdout"
        },
        {
          "output_type": "stream",
          "text": [
            "60000/60000 [==============================] - 40s 662us/step - loss: 0.0975\n",
            "Epoch 3/10\n",
            "40928/60000 [===================>..........] - ETA: 12s - loss: 0.0920"
          ],
          "name": "stdout"
        },
        {
          "output_type": "stream",
          "text": [
            "60000/60000 [==============================] - 41s 682us/step - loss: 0.0911\n",
            "Epoch 4/10\n",
            "50400/60000 [========================>.....] - ETA: 6s - loss: 0.0879"
          ],
          "name": "stdout"
        },
        {
          "output_type": "stream",
          "text": [
            "60000/60000 [==============================] - 39s 650us/step - loss: 0.0878\n",
            "Epoch 5/10\n",
            "56064/60000 [===========================>..] - ETA: 2s - loss: 0.0856"
          ],
          "name": "stdout"
        },
        {
          "output_type": "stream",
          "text": [
            "60000/60000 [==============================] - 39s 642us/step - loss: 0.0857\n",
            "Epoch 6/10\n",
            "58656/60000 [============================>.] - ETA: 0s - loss: 0.0840"
          ],
          "name": "stdout"
        },
        {
          "output_type": "stream",
          "text": [
            "60000/60000 [==============================] - 38s 625us/step - loss: 0.0840\n",
            "Epoch 7/10\n",
            "59968/60000 [============================>.] - ETA: 0s - loss: 0.0828"
          ],
          "name": "stdout"
        },
        {
          "output_type": "stream",
          "text": [
            "60000/60000 [==============================] - 38s 630us/step - loss: 0.0828\n",
            "Epoch 8/10\n",
            "60000/60000 [==============================] - 37s 624us/step - loss: 0.0817\n",
            "Epoch 9/10\n",
            "  320/60000 [..............................] - ETA: 39s - loss: 0.0848"
          ],
          "name": "stdout"
        },
        {
          "output_type": "stream",
          "text": [
            "60000/60000 [==============================] - 39s 651us/step - loss: 0.0808\n",
            "Epoch 10/10\n",
            "33440/60000 [===============>..............] - ETA: 16s - loss: 0.0808"
          ],
          "name": "stdout"
        },
        {
          "output_type": "stream",
          "text": [
            "60000/60000 [==============================] - 37s 623us/step - loss: 0.0800\n"
          ],
          "name": "stdout"
        },
        {
          "output_type": "execute_result",
          "data": {
            "text/plain": [
              "<keras.callbacks.History at 0x7ff5b6d37128>"
            ]
          },
          "metadata": {
            "tags": []
          },
          "execution_count": 151
        }
      ]
    },
    {
      "metadata": {
        "id": "Lk9bdWwzfAlf",
        "colab_type": "code",
        "colab": {
          "autoexec": {
            "startup": false,
            "wait_interval": 0
          },
          "base_uri": "https://localhost:8080/",
          "height": 297
        },
        "outputId": "49031498-f1ac-4a67-fbf8-54746d6d317c",
        "executionInfo": {
          "status": "ok",
          "timestamp": 1532056909282,
          "user_tz": -480,
          "elapsed": 1193,
          "user": {
            "displayName": "柏仁王",
            "photoUrl": "https://lh3.googleusercontent.com/a/default-user=s128",
            "userId": "112467679485077150500"
          }
        }
      },
      "cell_type": "code",
      "source": [
        "# show result\n",
        "showX(netG.predict(np.random.normal(size=(100, NZ))), 10)"
      ],
      "execution_count": 152,
      "outputs": [
        {
          "output_type": "display_data",
          "data": {
            "image/png": "[encoded data removed]",
            "text/plain": [
              "<PIL.Image.Image image mode=L size=280x280 at 0x7FF58942D860>"
            ]
          },
          "metadata": {
            "tags": []
          }
        }
      ]
    },
    {
      "metadata": {
        "id": "AaTSRtvufHZV",
        "colab_type": "code",
        "colab": {
          "autoexec": {
            "startup": false,
            "wait_interval": 0
          },
          "base_uri": "https://localhost:8080/",
          "height": 297
        },
        "outputId": "c4ede65b-025c-4f86-a36e-fbe2eadb7614",
        "executionInfo": {
          "status": "ok",
          "timestamp": 1532056923171,
          "user_tz": -480,
          "elapsed": 944,
          "user": {
            "displayName": "柏仁王",
            "photoUrl": "https://lh3.googleusercontent.com/a/default-user=s128",
            "userId": "112467679485077150500"
          }
        }
      },
      "cell_type": "code",
      "source": [
        "# show result\n",
        "showX(netEG.predict(train_X[:100]), 10)"
      ],
      "execution_count": 153,
      "outputs": [
        {
          "output_type": "display_data",
          "data": {
            "image/png": "[encoded data removed]",
            "text/plain": [
              "<PIL.Image.Image image mode=L size=280x280 at 0x7FF58942DE48>"
            ]
          },
          "metadata": {
            "tags": []
          }
        }
      ]
    },
    {
      "metadata": {
        "id": "MH3ZVjFXgjO7",
        "colab_type": "code",
        "colab": {
          "autoexec": {
            "startup": false,
            "wait_interval": 0
          }
        }
      },
      "cell_type": "code",
      "source": [
        "# codes = netE.predict(train_X[:1000])\n",
        "# train_fashion_y\n",
        "codes = netE.predict(train_fashion_X[train_fashion_y==7])"
      ],
      "execution_count": 0,
      "outputs": []
    },
    {
      "metadata": {
        "id": "tJEHll2QhMpg",
        "colab_type": "code",
        "colab": {
          "autoexec": {
            "startup": false,
            "wait_interval": 0
          },
          "base_uri": "https://localhost:8080/",
          "height": 51
        },
        "outputId": "2fe20823-679e-427c-830c-4c9a53e13b85",
        "executionInfo": {
          "status": "ok",
          "timestamp": 1532056995765,
          "user_tz": -480,
          "elapsed": 500,
          "user": {
            "displayName": "柏仁王",
            "photoUrl": "https://lh3.googleusercontent.com/a/default-user=s128",
            "userId": "112467679485077150500"
          }
        }
      },
      "cell_type": "code",
      "source": [
        "codes.mean(axis=0)"
      ],
      "execution_count": 158,
      "outputs": [
        {
          "output_type": "execute_result",
          "data": {
            "text/plain": [
              "array([-0.0305008 ,  0.58220035, -0.08546469,  0.19582215, -0.42248678,\n",
              "        0.58397925, -0.24518585], dtype=float32)"
            ]
          },
          "metadata": {
            "tags": []
          },
          "execution_count": 158
        }
      ]
    },
    {
      "metadata": {
        "id": "IOJgBvgZhP13",
        "colab_type": "code",
        "colab": {
          "autoexec": {
            "startup": false,
            "wait_interval": 0
          },
          "base_uri": "https://localhost:8080/",
          "height": 238
        },
        "outputId": "a1a1afbf-4a66-472b-d3d1-945c2a3a9890",
        "executionInfo": {
          "status": "ok",
          "timestamp": 1532057000877,
          "user_tz": -480,
          "elapsed": 3518,
          "user": {
            "displayName": "柏仁王",
            "photoUrl": "https://lh3.googleusercontent.com/a/default-user=s128",
            "userId": "112467679485077150500"
          }
        }
      },
      "cell_type": "code",
      "source": [
        "codes"
      ],
      "execution_count": 159,
      "outputs": [
        {
          "output_type": "execute_result",
          "data": {
            "text/plain": [
              "array([[-0.00628214,  0.5693817 , -0.1239658 , ..., -0.49562997,\n",
              "         0.5776027 , -0.39591563],\n",
              "       [-0.2303812 ,  0.57308435, -0.30435985, ..., -0.4188403 ,\n",
              "         0.57842785, -0.23716679],\n",
              "       [ 0.11055908,  0.61892366, -0.08185839, ..., -0.3191062 ,\n",
              "         0.68615   , -0.33998632],\n",
              "       ...,\n",
              "       [-0.05629585,  0.5917606 , -0.19788468, ..., -0.46201602,\n",
              "         0.58508265, -0.36669916],\n",
              "       [ 0.27397263,  0.66813385,  0.10183821, ..., -0.36052805,\n",
              "         0.5057954 , -0.00401135],\n",
              "       [-0.06580513,  0.53855485, -0.04533134, ..., -0.37001345,\n",
              "         0.6734708 , -0.16180563]], dtype=float32)"
            ]
          },
          "metadata": {
            "tags": []
          },
          "execution_count": 159
        }
      ]
    },
    {
      "metadata": {
        "id": "2shai-DLjuMU",
        "colab_type": "code",
        "colab": {
          "autoexec": {
            "startup": false,
            "wait_interval": 0
          },
          "base_uri": "https://localhost:8080/",
          "height": 51
        },
        "outputId": "8694cc72-593f-40f7-aec0-eb0565a84e2f",
        "executionInfo": {
          "status": "ok",
          "timestamp": 1532057002194,
          "user_tz": -480,
          "elapsed": 439,
          "user": {
            "displayName": "柏仁王",
            "photoUrl": "https://lh3.googleusercontent.com/a/default-user=s128",
            "userId": "112467679485077150500"
          }
        }
      },
      "cell_type": "code",
      "source": [
        "codes.std(axis=0)"
      ],
      "execution_count": 160,
      "outputs": [
        {
          "output_type": "execute_result",
          "data": {
            "text/plain": [
              "array([0.1659624 , 0.06662271, 0.12518138, 0.13632342, 0.10287028,\n",
              "       0.0752312 , 0.18893515], dtype=float32)"
            ]
          },
          "metadata": {
            "tags": []
          },
          "execution_count": 160
        }
      ]
    },
    {
      "metadata": {
        "id": "LGzYQJEdj0ly",
        "colab_type": "code",
        "colab": {
          "autoexec": {
            "startup": false,
            "wait_interval": 0
          },
          "base_uri": "https://localhost:8080/",
          "height": 297
        },
        "outputId": "551da55e-698a-43ea-d2f5-e32d9b199fff",
        "executionInfo": {
          "status": "ok",
          "timestamp": 1532057003959,
          "user_tz": -480,
          "elapsed": 736,
          "user": {
            "displayName": "柏仁王",
            "photoUrl": "https://lh3.googleusercontent.com/a/default-user=s128",
            "userId": "112467679485077150500"
          }
        }
      },
      "cell_type": "code",
      "source": [
        "z = np.random.normal(codes.mean(axis=0), scale=codes.std(axis=0), size=(100,NZ))\n",
        "showX(netG.predict(z), 10)"
      ],
      "execution_count": 161,
      "outputs": [
        {
          "output_type": "display_data",
          "data": {
            "image/png": "[encoded data removed]",
            "text/plain": [
              "<PIL.Image.Image image mode=L size=280x280 at 0x7FF58942DC18>"
            ]
          },
          "metadata": {
            "tags": []
          }
        }
      ]
    },
    {
      "metadata": {
        "id": "NV7ltJbQkCES",
        "colab_type": "code",
        "colab": {
          "autoexec": {
            "startup": false,
            "wait_interval": 0
          }
        }
      },
      "cell_type": "code",
      "source": [
        ""
      ],
      "execution_count": 0,
      "outputs": []
    }
  ]
}