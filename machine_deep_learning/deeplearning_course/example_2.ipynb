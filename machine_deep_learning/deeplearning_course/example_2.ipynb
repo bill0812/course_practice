{
  "cells": [
    {
      "cell_type": "code",
      "execution_count": null,
      "metadata": {
        "collapsed": true
      },
      "outputs": [
        
      ],
      "source": [
        "# load required packages\n",
        "import tensorflow as tf\n",
        "import numpy as np\n",
        "import matplotlib.pyplot as plt\n",
        "%matplotlib inline\n",
        "\n",
        "# make the code compatible with both Python 2 and 3\n",
        "from __future__ import print_function, division"
      ]
    },
    {
      "cell_type": "code",
      "execution_count": null,
      "metadata": {
        "collapsed": true
      },
      "outputs": [
        
      ],
      "source": [
        "x_data = np.array([ 0.20887662,  0.23051809,  0.81540471,  0.83467036,  0.13432297,\n",
        "        0.41180536,  0.76627493,  0.84250897,  0.09411886,  0.97653514,\n",
        "        0.47437951,  0.97876304,  0.75702757,  0.70983088,  0.14911447,\n",
        "        0.886576  ,  0.48847255,  0.36097595,  0.45044446,  0.55202174,\n",
        "        0.43420181,  0.48215479,  0.63103992,  0.1782957 ,  0.65355641,\n",
        "        0.63365793,  0.54776186,  0.11332292,  0.30327687,  0.4629975 ,\n",
        "        0.42343256,  0.57592005,  0.83469546,  0.13295023,  0.5122664 ,\n",
        "        0.96472192,  0.53306699,  0.78124267,  0.79828817,  0.58225191,\n",
        "        0.3057484 ,  0.67713797,  0.59944624,  0.51950282,  0.87892991,\n",
        "        0.96854967,  0.6824438 ,  0.39253491,  0.71666157,  0.41341954])#np.random.rand(50).astype(np.float32)\n",
        "y_data = np.array([ 0.29985046,  0.3747163 ,  0.59927621,  0.66414117,  0.24862524,\n",
        "        0.41288769,  0.59392696,  0.65169575,  0.27421347,  0.68645394,\n",
        "        0.46211896,  0.6461242 ,  0.60798221,  0.54021937,  0.29944395,\n",
        "        0.68519668,  0.43036527,  0.33875551,  0.37357352,  0.52543381,\n",
        "        0.43220646,  0.43027784,  0.55210875,  0.27782256,  0.5379071 ,\n",
        "        0.49471155,  0.47963437,  0.23379702,  0.3776634 ,  0.39971768,\n",
        "        0.40160985,  0.49836156,  0.62770384,  0.2713942 ,  0.40353053,\n",
        "        0.69037012,  0.45364884,  0.63048936,  0.62064098,  0.54269963,\n",
        "        0.32310101,  0.50327223,  0.51852421,  0.43220506,  0.59743367,\n",
        "        0.66718358,  0.57317811,  0.44307789,  0.52747022,  0.38996344])\n"
      ]
    },
    {
      "cell_type": "code",
      "execution_count": null,
      "metadata": {
        
      },
      "outputs": [
        
      ],
      "source": [
        "plt.scatter(x_data, y_data)\n",
        "plt.ylabel('y')\n",
        "plt.xlabel('x')\n",
        "plt.show()"
      ]
    },
    {
      "cell_type": "code",
      "execution_count": null,
      "metadata": {
        
      },
      "outputs": [
        
      ],
      "source": [
        "# Try to find values for W and b that compute y_data = W * x_data + b\n",
        "W = tf.Variable(tf.random_uniform([1], -1.0, 1.0))\n",
        "b = tf.Variable(tf.zeros([1]))\n",
        "y = W * x_data + b\n",
        "\n",
        "# Minimize the mean squared errors.\n",
        "loss = tf.reduce_mean(tf.square(y - y_data))\n",
        "optimizer = tf.train.GradientDescentOptimizer(0.5)\n",
        "train = optimizer.minimize(loss)\n",
        "\n",
        "# Before starting, initialize the variables.  We will 'run' this first.\n",
        "init = tf.global_variables_initializer()\n",
        "\n",
        "# Launch the graph.\n",
        "sess = tf.Session()\n",
        "sess.run(init)\n",
        "\n",
        "# Fit the line.\n",
        "print(\"Step\")\n",
        "for step in range(201):\n",
        "    sess.run(train)\n",
        "    if step % 20 == 0:\n",
        "        print(step, 'W=', sess.run(W), 'b=', sess.run(b), 'loss=', sess.run(loss))\n",
        "\n",
        "\n",
        "\n",
        "# Learns best fit is W: [0.1], b: [0.3]"
      ]
    },
    {
      "cell_type": "code",
      "execution_count": null,
      "metadata": {
        "collapsed": true
      },
      "outputs": [
        
      ],
      "source": [
        "x_data = np.array([ 0.20887662,  0.23051809,  0.81540471,  0.83467036,  0.13432297,\n",
        "        0.41180536,  0.76627493,  0.84250897,  0.09411886,  0.97653514,\n",
        "        0.47437951,  0.97876304,  0.75702757,  0.70983088,  0.14911447,\n",
        "        0.886576  ,  0.48847255,  0.36097595,  0.45044446,  0.55202174,\n",
        "        0.43420181,  0.48215479,  0.63103992,  0.1782957 ,  0.65355641,\n",
        "        0.63365793,  0.54776186,  0.11332292,  0.30327687,  0.4629975 ,\n",
        "        0.42343256,  0.57592005,  0.83469546,  0.13295023,  0.5122664 ,\n",
        "        0.96472192,  0.53306699,  0.78124267,  0.79828817,  0.58225191,\n",
        "        0.3057484 ,  0.67713797,  0.59944624,  0.51950282,  0.87892991,\n",
        "        0.96854967,  0.6824438 ,  0.39253491,  0.71666157,  0.41341954])#np.random.rand(50).astype(np.float32)\n",
        "y_data = np.array([ 0.20824082,  0.20078086,  2.00714617,  2.08281293,  0.06814417,\n",
        "        0.54542655,  1.68628583,  2.10063581,  0.06181531,  2.72671095,\n",
        "        0.6466645 ,  2.93956713,  1.69264894,  1.50614577,  0.13257123,\n",
        "        2.45766318,  0.71695525,  0.34919215,  0.63052806,  1.00804617,\n",
        "        0.47247553,  0.72971946,  1.14258336,  0.02683982,  1.23997085,\n",
        "        1.25577091,  0.89465558, -0.06225151,  0.29524601,  0.59942765,\n",
        "        0.55401867,  1.07077305,  2.00494904,  0.06715178,  0.77510093,\n",
        "        2.77178884,  0.85637327,  1.86530951,  1.94773448,  0.99657355,\n",
        "        0.3022431 ,  1.34875704,  1.01987361,  0.86185865,  2.22011258,\n",
        "        2.80968107,  1.37961057,  0.49022126,  1.58454513,  0.59295544])"
      ]
    },
    {
      "cell_type": "code",
      "execution_count": null,
      "metadata": {
        "collapsed": true
      },
      "outputs": [
        
      ],
      "source": [
        "#exercise"
      ]
    },
    {
      "cell_type": "code",
      "execution_count": null,
      "metadata": {
        
      },
      "outputs": [
        
      ],
      "source": [
        "import keras\n",
        "from keras.datasets import mnist\n",
        "import cv2\n",
        "(x_train, y_train), (x_test, y_test) = mnist.load_data()\n",
        "\n",
        "img = x_train[y_train == 0]\n",
        "plt.imshow(255-img[1], cmap=\"gray\")\n",
        "plt.xticks([])\n",
        "plt.yticks([])\n",
        "plt.show()"
      ]
    },
    {
      "cell_type": "code",
      "execution_count": null,
      "metadata": {
        "collapsed": true
      },
      "outputs": [
        
      ],
      "source": [
        "A = np.array([[2, 0, 0], [0, 2, 0], [0, 0, 2]]) #Diagonal Matrix\n",
        "\n",
        "print(A)"
      ]
    },
    {
      "cell_type": "code",
      "execution_count": null,
      "metadata": {
        
      },
      "outputs": [
        
      ],
      "source": [
        "print('Trace=', np.sum(np.diag(A)))"
      ]
    },
    {
      "cell_type": "code",
      "execution_count": null,
      "metadata": {
        
      },
      "outputs": [
        
      ],
      "source": [
        "B = np.array([[2, 3], [4, 5]])\n",
        "print(B)\n",
        "print(B.transpose())"
      ]
    },
    {
      "cell_type": "code",
      "execution_count": null,
      "metadata": {
        
      },
      "outputs": [
        
      ],
      "source": [
        "from numpy.linalg import inv\n",
        "B = np.array([[2, 3], [4, 5]])\n",
        "print(inv(B))\n",
        "print(B*inv(B)) #element-wise multiplication\n",
        "print(np.matmul(B, inv(B))) #matrix multiplication"
      ]
    }
  ],
  "metadata": {
    "kernelspec": {
      "display_name": "Python 3",
      "language": "python",
      "name": "python3"
    },
    "language_info": {
      "codemirror_mode": {
        "name": "ipython",
        "version": 3
      },
      "file_extension": ".py",
      "mimetype": "text/x-python",
      "name": "python",
      "nbconvert_exporter": "python",
      "pygments_lexer": "ipython3",
      "version": "3.5.3"
    }
  },
  "nbformat": 4,
  "nbformat_minor": 1
}